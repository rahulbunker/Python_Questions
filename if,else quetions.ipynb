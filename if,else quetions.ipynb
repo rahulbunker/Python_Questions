{
 "cells": [
  {
   "cell_type": "markdown",
   "id": "1a95cab0-dcb4-4329-8482-f653ec8b90a9",
   "metadata": {},
   "source": [
    "Q1 take 3 number and find out the minimum"
   ]
  },
  {
   "cell_type": "code",
   "execution_count": 11,
   "id": "af45f967-e5f3-4b8a-bf14-620e77342ec1",
   "metadata": {},
   "outputs": [
    {
     "name": "stdin",
     "output_type": "stream",
     "text": [
      "enter the first(x) value: 10\n",
      "enter the second(y) value: 50\n",
      "enter the third(z) value: 23\n"
     ]
    },
    {
     "name": "stdout",
     "output_type": "stream",
     "text": [
      "x is min\n"
     ]
    }
   ],
   "source": [
    "# Ans:\n",
    "x=int(input(\"enter the first(x) value:\"))\n",
    "y=int(input(\"enter the second(y) value:\"))\n",
    "z=int(input(\"enter the third(z) value:\"))\n",
    "if(x<y and x<z):\n",
    "    print(\"x is min\")\n",
    "\n",
    "elif(y<z and y<x):\n",
    "    print(\"y is min\")\n",
    "\n",
    "elif(z<x and z<y):\n",
    "    print(\"z is min\")\n",
    "\n",
    "elif(x==y and x<z):\n",
    "    print(\" x and y is min\")\n",
    "\n",
    "elif(y==x and y<z):\n",
    "    print(\" y and x is min\")\n",
    "\n",
    "elif(z==x and z<y):\n",
    "    print(\"z and x is min\")\n",
    "\n",
    "elif(z==y and z<x):\n",
    "    print(\"z and y is min\")\n",
    "\n",
    "else:\n",
    "    print(\"equals\")"
   ]
  },
  {
   "cell_type": "markdown",
   "id": "4dd6817c-52dc-4779-a52e-a9444e209ef3",
   "metadata": {},
   "source": [
    "Q2 take a number and check on following conditions\n",
    "- in case number is greater than 60 print average\n",
    "- in case number is greater than 75 print Good\n",
    "- in case number is greater than 85 print excellent\n",
    "- in case number is greater than 95 print brilliant\n",
    "otherwise FAIL\n"
   ]
  },
  {
   "cell_type": "code",
   "execution_count": 17,
   "id": "3cf5f486-13d7-4649-b999-797cdbe801b7",
   "metadata": {},
   "outputs": [
    {
     "name": "stdin",
     "output_type": "stream",
     "text": [
      "enter the marks of student: 61\n"
     ]
    },
    {
     "name": "stdout",
     "output_type": "stream",
     "text": [
      "Average\n"
     ]
    }
   ],
   "source": [
    "# Ans:\n",
    "marks=int(input(\"enter the marks of student:\"))\n",
    "if(marks>95):\n",
    "    print(\"Brilliant\")\n",
    "\n",
    "elif(85<marks<=95):\n",
    "    print(\"Excellent\")\n",
    "\n",
    "elif(75<marks<=85):\n",
    "    print(\"Good\")\n",
    "\n",
    "elif(60<marks<=75):\n",
    "    print(\"Average\")\n",
    "\n",
    "else:\n",
    "    print(\"Fail\")"
   ]
  },
  {
   "cell_type": "markdown",
   "id": "cd010fac-2860-4fb4-9f6e-dafac80c3e1b",
   "metadata": {},
   "source": [
    "Q3\n",
    "input user and we need to calculate the total amount\n",
    "10 unit => 50 rs\n",
    "20 => 20rs\n",
    "10 => 10rs\n",
    "other unit  => 5\n",
    "\n",
    "100     =>    500+400+100+300\n",
    "90"
   ]
  },
  {
   "cell_type": "code",
   "execution_count": 26,
   "id": "72355f3d-0f46-4fb1-b3e3-87f85c9db372",
   "metadata": {},
   "outputs": [
    {
     "name": "stdin",
     "output_type": "stream",
     "text": [
      "Enter the unit value: 100\n"
     ]
    },
    {
     "name": "stdout",
     "output_type": "stream",
     "text": [
      "payment of  60 unit : 1300\n"
     ]
    }
   ],
   "source": [
    "unit=int(input(\"Enter the unit value:\"))\n",
    "\n",
    "total_amount=0\n",
    "\n",
    "if unit>0:\n",
    "    first_10_unit=min(unit,10)\n",
    "    total_amount=first_10_unit*50\n",
    "    unit=unit-first_10_unit\n",
    "\n",
    "if unit>0:\n",
    "    next_20_unit=min(unit,20)\n",
    "    total_amount=total_amount+(next_20_unit*20)\n",
    "    unit=unit-next_20_unit\n",
    "\n",
    "if unit>0:\n",
    "    next_10_unit=min(unit,10)\n",
    "    total_amount=total_amount+(next_10_unit*10)\n",
    "    unit=unit-next_10_unit\n",
    "\n",
    "if unit>0:\n",
    "    # remainig units\n",
    "    total_amount=(unit*5)+total_amount\n",
    "\n",
    "\n",
    "print(\"payment of \",unit,\"unit :\",total_amount)\n",
    "\n",
    "\n",
    "    "
   ]
  },
  {
   "cell_type": "code",
   "execution_count": 29,
   "id": "7c944f5a-1470-4b53-9cdd-139b8d3ea916",
   "metadata": {},
   "outputs": [
    {
     "name": "stdout",
     "output_type": "stream",
     "text": [
      "1300\n",
      "1250\n"
     ]
    }
   ],
   "source": [
    "def calculate_total_amount(units):\n",
    "    total_amount = 0\n",
    "    \n",
    "    if units > 0:\n",
    "        # First 10 units\n",
    "        first_10_units = min(units, 10)\n",
    "        total_amount += first_10_units * 50\n",
    "        units -= first_10_units\n",
    "\n",
    "    if units > 0:\n",
    "        # Next 20 units\n",
    "        next_20_units = min(units, 20)\n",
    "        total_amount += next_20_units * 20\n",
    "        units -= next_20_units\n",
    "\n",
    "    if units > 0:\n",
    "        # Next 10 units\n",
    "        next_10_units = min(units, 10)\n",
    "        total_amount += next_10_units * 10\n",
    "        units -= next_10_units\n",
    "\n",
    "    if units > 0:\n",
    "        # Remaining units\n",
    "        total_amount += units * 5\n",
    "\n",
    "    return total_amount\n",
    "\n",
    "# Test cases\n",
    "print(calculate_total_amount(100))  # Output: 1300\n",
    "print(calculate_total_amount(90))   # Output: 1250\n"
   ]
  },
  {
   "cell_type": "markdown",
   "id": "cba555fc-2b06-4aee-b49d-379b07326985",
   "metadata": {},
   "source": [
    "Q4\n",
    "Take a variable with any value and check if the number is divisible by\n",
    "by 6\n",
    "(6 divisible  : divided by  2 and 3 both )"
   ]
  },
  {
   "cell_type": "code",
   "execution_count": 45,
   "id": "db432c0a-6a94-4077-8a8e-1be086fafcd4",
   "metadata": {},
   "outputs": [
    {
     "name": "stdin",
     "output_type": "stream",
     "text": [
      "Enter the number: 7\n"
     ]
    },
    {
     "name": "stdout",
     "output_type": "stream",
     "text": [
      "The number7 is not divisable by 6\n"
     ]
    }
   ],
   "source": [
    "# Ans\n",
    "\n",
    "num=int(input(\"Enter the number:\"))\n",
    "if(num%2==0 and num%3==0):\n",
    "    print(f\"The number{num} is divisable by 6\")\n",
    "\n",
    "else:\n",
    "     print(f\"The number{num} is not divisable by 6\")\n",
    "    \n"
   ]
  },
  {
   "cell_type": "markdown",
   "id": "b8299ad2-e245-4537-8912-9ade6caab2e7",
   "metadata": {},
   "source": [
    "Q5\n",
    "If a user has given me an input 1 => January\n",
    "2=> february  and upto  12 => December"
   ]
  },
  {
   "cell_type": "code",
   "execution_count": 49,
   "id": "d3b0c51f-99ff-4c2e-9068-d98fd4a72e62",
   "metadata": {},
   "outputs": [
    {
     "name": "stdin",
     "output_type": "stream",
     "text": [
      "Enter month number: 8\n"
     ]
    },
    {
     "name": "stdout",
     "output_type": "stream",
     "text": [
      "august\n"
     ]
    }
   ],
   "source": [
    "# Ans:\n",
    "num=int(input(\"Enter month number:\"))\n",
    "if(num==1):\n",
    "    print(\"january\")\n",
    "\n",
    "elif(num==2):\n",
    "    print(\"february\")\n",
    "\n",
    "elif(num==3):\n",
    "    print(\"march\")\n",
    "\n",
    "elif(num==4):\n",
    "    print(\"april\")\n",
    "\n",
    "elif(num==5):\n",
    "    print(\"may\")\n",
    "\n",
    "elif(num==6):\n",
    "    print(\"june\")\n",
    "\n",
    "elif(num==7):\n",
    "    print(\"july\")\n",
    "\n",
    "elif(num==8):\n",
    "    print(\"august\")\n",
    "\n",
    "\n",
    "elif(num==9):\n",
    "    print(\"september\")\n",
    "\n",
    "elif(num==10):\n",
    "    print(\"october\")\n",
    "\n",
    "elif(num==11):\n",
    "    print(\"november\")\n",
    "\n",
    "elif(num==12):\n",
    "    print(\"december\")"
   ]
  },
  {
   "cell_type": "code",
   "execution_count": null,
   "id": "66c8bc25-a5d4-49e8-8f2e-976db24aebfd",
   "metadata": {},
   "outputs": [],
   "source": []
  }
 ],
 "metadata": {
  "kernelspec": {
   "display_name": "Python 3 (ipykernel)",
   "language": "python",
   "name": "python3"
  },
  "language_info": {
   "codemirror_mode": {
    "name": "ipython",
    "version": 3
   },
   "file_extension": ".py",
   "mimetype": "text/x-python",
   "name": "python",
   "nbconvert_exporter": "python",
   "pygments_lexer": "ipython3",
   "version": "3.10.11"
  }
 },
 "nbformat": 4,
 "nbformat_minor": 5
}
