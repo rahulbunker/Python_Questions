{
 "cells": [
  {
   "cell_type": "markdown",
   "id": "02a3f9e3-13b1-4bac-afc4-07fa6356908a",
   "metadata": {},
   "source": [
    "# Practice Question"
   ]
  },
  {
   "cell_type": "markdown",
   "id": "45b6d408-c4bd-434a-ae0d-def2cd600a8e",
   "metadata": {},
   "source": [
    "\n",
    "\n",
    "Q1 Swap the number without using third varible\n",
    "\n",
    "Q2 : Write a Program to extract each digit from an integer in the reverse order.\n",
    "For example, If the given int is 7536, the output shall be “6 3 5 7“, with a space separating the\n",
    "digits.\n",
    "\n",
    "Q3 Write a program that will give you the sum of 3 digits\n",
    "\n",
    "Q4 Write a program that will take three digits from the user and add the square of each\n",
    "digit.\n",
    "\n",
    "\n",
    "Q5 Write a program that will check whether the number is armstrong number or not.\n",
    "\n",
    "Q6 :Write a program that will take user input of (4 digits number) and check whether the\n",
    "number is narcissist number or not.\n",
    "\n",
    "Q7 Display float number with 2 decimal places using print()\n",
    "\n",
    "Q8 Print all factors of a given number provided by the user.\n",
    "\n",
    "Q9 Accept a list of 5 float numbers as an input from the user\n",
    "\n",
    "Q10 : Write a program to find the volume of the cylinder. Also find the cost when ,when the\n",
    "cost of 1litre milk is 40Rs."
   ]
  },
  {
   "cell_type": "code",
   "execution_count": 7,
   "id": "26072db0-3c64-4144-ab4b-7190fd8e0bbe",
   "metadata": {},
   "outputs": [
    {
     "ename": "SyntaxError",
     "evalue": "invalid character '“' (U+201C) (3979088561.py, line 4)",
     "output_type": "error",
     "traceback": [
      "\u001b[1;36m  Cell \u001b[1;32mIn[7], line 4\u001b[1;36m\u001b[0m\n\u001b[1;33m    For example, If the given int is 7536, the output shall be “6 3 5 7“, with a space separating the\u001b[0m\n\u001b[1;37m                                                               ^\u001b[0m\n\u001b[1;31mSyntaxError\u001b[0m\u001b[1;31m:\u001b[0m invalid character '“' (U+201C)\n"
     ]
    }
   ],
   "source": [
    "\n",
    "\n",
    "Q1 Swap the number without using third varible\n",
    "\n",
    "Q2 : Write a Program to extract each digit from an integer in the reverse order.\n",
    "For example, If the given int is 7536, the output shall be “6 3 5 7“, with a space separating the\n",
    "digits.\n",
    "\n",
    "Q3 Write a program that will give you the sum of 3 digits\n",
    "\n",
    "Q4 Write a program that will take three digits from the user and add the square of each\n",
    "digit.\n",
    "\n",
    "\n",
    "Q5 Write a program that will check whether the number is armstrong number or not.\n",
    "Q6 :Write a program that will take user input of (4 digits number) and check whether the\n",
    "number is narcissist number or not.\n",
    "\n",
    "Q7 Display float number with 2 decimal places using print()\n",
    "\n",
    "Q8 Print all factors of a given number provided by the user.\n",
    "\n",
    "Q9 Accept a list of 5 float numbers as an input from the user\n",
    "\n",
    "Q10 : Write a program to find the volume of the cylinder. Also find the cost when ,when the\n",
    "cost of 1litre milk is 40Rs."
   ]
  },
  {
   "cell_type": "markdown",
   "id": "1c9f0b1d-d2d7-4603-a3ca-5c555af07209",
   "metadata": {},
   "source": [
    "##  Ans:1"
   ]
  },
  {
   "cell_type": "code",
   "execution_count": 12,
   "id": "15079e19-e99f-4fd6-8265-6a1d3f766059",
   "metadata": {},
   "outputs": [
    {
     "name": "stdout",
     "output_type": "stream",
     "text": [
      " value of x : 10 \n",
      " value of y : 20\n",
      " value of x : 20 \n",
      " value of y : 10\n"
     ]
    }
   ],
   "source": [
    "x=10\n",
    "y=20\n",
    "print(f\" value of x : {x} \\n value of y : {y}\")\n",
    "x,y=y,x\n",
    "print(f\" value of x : {x} \\n value of y : {y}\")"
   ]
  },
  {
   "cell_type": "code",
   "execution_count": 16,
   "id": "c6b0cf13-7588-48d5-b930-395b52442577",
   "metadata": {},
   "outputs": [
    {
     "name": "stdout",
     "output_type": "stream",
     "text": [
      "x is : 10\n",
      "y is : 20\n",
      "x is : 20\n",
      "y is : 10\n"
     ]
    }
   ],
   "source": [
    "# or\n",
    "x=10\n",
    "y=20\n",
    "print(\"x is :\",x)\n",
    "print(\"y is :\",y)\n",
    "x=x+y\n",
    "y=x-y\n",
    "x=x-y\n",
    "print(\"x is :\",x)\n",
    "print(\"y is :\",y)"
   ]
  },
  {
   "cell_type": "markdown",
   "id": "062e5081-0642-4bf7-8bb3-7935be12ce3a",
   "metadata": {},
   "source": [
    "## Ans:2"
   ]
  },
  {
   "cell_type": "code",
   "execution_count": 27,
   "id": "ca43f6b6-0007-4cf2-8cbe-371d2619bdaa",
   "metadata": {},
   "outputs": [
    {
     "name": "stdout",
     "output_type": "stream",
     "text": [
      "54321\n",
      "5 4 3 2 1\n"
     ]
    }
   ],
   "source": [
    "num=12345\n",
    "\n",
    "sum=0\n",
    "rem=0\n",
    "reverse_digit=[]\n",
    "\n",
    "while(num>0):\n",
    "    rem=num%10\n",
    "    reverse_digit.append(rem)\n",
    "    sum=sum*10+rem\n",
    "    num=num//10\n",
    "\n",
    "\n",
    "reverse_with_space=\" \".join(map(str,reverse_digit))  \n",
    "   \n",
    "print(sum)\n",
    "\n",
    "print(reverse_with_space)\n",
    "\n"
   ]
  },
  {
   "cell_type": "code",
   "execution_count": 21,
   "id": "06f1789d-ff2a-41f5-9837-68cac57119bc",
   "metadata": {},
   "outputs": [
    {
     "name": "stdin",
     "output_type": "stream",
     "text": [
      "Enter an integer:  12345\n"
     ]
    },
    {
     "name": "stdout",
     "output_type": "stream",
     "text": [
      "The digits of 12345 in reverse order with spaces are: 5*4*3*2*1\n"
     ]
    }
   ],
   "source": [
    "# Reverse the digits of a number with spaces\n",
    "num = int(input(\"Enter an integer: \"))  # Accept input from the user\n",
    "original_num = num  # Store the original number for reference\n",
    "\n",
    "reversed_digits = []  # List to store the digits in reverse order\n",
    "\n",
    "while num > 0:\n",
    "    rem = num % 10  # Extract the last digit\n",
    "    reversed_digits.append(rem)  # Append the digit to the list\n",
    "    num = num // 10  # Remove the last digit from the number\n",
    "\n",
    "# Join the reversed digits with spaces and display\n",
    "reversed_with_spaces = \"*\".join(map(str, reversed_digits))\n",
    "print(f\"The digits of {original_num} in reverse order with spaces are: {reversed_with_spaces}\")\n"
   ]
  },
  {
   "cell_type": "markdown",
   "id": "d2c5bf77-41fb-4a9e-b237-a77d2df2bfee",
   "metadata": {},
   "source": [
    "# Ans 3"
   ]
  },
  {
   "cell_type": "code",
   "execution_count": 5,
   "id": "57b3a12a-ca86-42d4-8133-80f03afa377d",
   "metadata": {},
   "outputs": [
    {
     "name": "stdout",
     "output_type": "stream",
     "text": [
      "14\n"
     ]
    }
   ],
   "source": [
    "n=635\n",
    "sum=0\n",
    "if(99<n<1000):\n",
    "    x=n//100\n",
    "    y=n%10\n",
    "    z=(n//10)%10\n",
    "    print(x+y+z)\n",
    "    \n",
    "\n",
    "\n",
    "    "
   ]
  },
  {
   "cell_type": "markdown",
   "id": "78b2be07-ebf6-49b7-b406-1aeddfcd0c65",
   "metadata": {},
   "source": [
    "# Ans 4"
   ]
  },
  {
   "cell_type": "code",
   "execution_count": 12,
   "id": "55806952-49dd-48f0-ae97-620a43d7603b",
   "metadata": {},
   "outputs": [
    {
     "name": "stdin",
     "output_type": "stream",
     "text": [
      "first number: 2\n",
      "second number: 3\n",
      "third number: 4\n"
     ]
    },
    {
     "name": "stdout",
     "output_type": "stream",
     "text": [
      "the square add of 2,3,4 is:29\n"
     ]
    }
   ],
   "source": [
    "x=int(input(\"first number:\"))\n",
    "y=int(input(\"second number:\"))\n",
    "z=int(input(\"third number:\"))\n",
    "ans=x**2+y**2+z**2\n",
    "print(f\"the square add of {x},{y},{z} is:{ans}\")"
   ]
  },
  {
   "cell_type": "markdown",
   "id": "1c669ac6-2d9b-4adb-b1f4-9ea029c4ae33",
   "metadata": {},
   "source": [
    "# Ans 5"
   ]
  },
  {
   "cell_type": "code",
   "execution_count": 30,
   "id": "ac9e7550-a301-4bb1-a724-9800bb21c767",
   "metadata": {},
   "outputs": [
    {
     "name": "stdout",
     "output_type": "stream",
     "text": [
      "armstrong\n"
     ]
    }
   ],
   "source": [
    "n=153\n",
    "rem=0\n",
    "sum=0\n",
    "temp=n\n",
    "while(n>0):\n",
    "    rem=n%10\n",
    "    sum=sum+rem**3\n",
    "    n=n//10\n",
    "\n",
    "if(temp==sum):\n",
    "    print(\"armstrong\")\n",
    "\n",
    "else:\n",
    "    print(\"not arm\")"
   ]
  },
  {
   "cell_type": "markdown",
   "id": "a94331b7-01e4-4c50-91dd-224e41b8519b",
   "metadata": {},
   "source": [
    "# Ans 8"
   ]
  },
  {
   "cell_type": "code",
   "execution_count": 4,
   "id": "10ed157d-99cd-4270-a0cb-d4bb1e672837",
   "metadata": {},
   "outputs": [
    {
     "name": "stdin",
     "output_type": "stream",
     "text": [
      "enter the number: 45\n"
     ]
    },
    {
     "name": "stdout",
     "output_type": "stream",
     "text": [
      "factor of 45 is:\n",
      "3\n",
      "5\n",
      "9\n",
      "15\n",
      "45\n"
     ]
    }
   ],
   "source": [
    "# factor\n",
    "num=int(input(\"enter the number:\"))\n",
    "print(f\"factor of {num} is:\")\n",
    "for i in range(2,num+1):\n",
    "    if(num%i==0):\n",
    "        print(i)"
   ]
  },
  {
   "cell_type": "markdown",
   "id": "a091271f-d244-4dd8-88e0-b40a27ab981c",
   "metadata": {},
   "source": [
    "# Ans 6"
   ]
  },
  {
   "cell_type": "code",
   "execution_count": 3,
   "id": "b2f17ea4-a15b-4753-9f28-ea936340daf5",
   "metadata": {},
   "outputs": [
    {
     "name": "stdin",
     "output_type": "stream",
     "text": [
      "enter the number: 1634\n"
     ]
    },
    {
     "name": "stdout",
     "output_type": "stream",
     "text": [
      "Narcissist\n"
     ]
    }
   ],
   "source": [
    "num=int(input(\"enter the number:\"))\n",
    "rem=0\n",
    "sum=0\n",
    "temp=num\n",
    "\n",
    "def len_digit(num):\n",
    "    count=0\n",
    "    while(num>0):\n",
    "        num=num//10\n",
    "        count=count+1\n",
    "\n",
    "    return count\n",
    "        \n",
    "\n",
    "x=len_digit(num)\n",
    "while(num>0):\n",
    "    rem=num%10\n",
    "    sum=sum+rem**x\n",
    "    num=num//10\n",
    "\n",
    "if(sum==temp):\n",
    "    print(\"Narcissist\")\n",
    "\n",
    "else:\n",
    "    print(\"not\")\n",
    "\n"
   ]
  },
  {
   "cell_type": "code",
   "execution_count": 12,
   "id": "43832700-041c-4113-9b5a-d65b0535147b",
   "metadata": {},
   "outputs": [
    {
     "name": "stdin",
     "output_type": "stream",
     "text": [
      "enter the number: 1634\n"
     ]
    },
    {
     "name": "stdout",
     "output_type": "stream",
     "text": [
      "Narcissist\n"
     ]
    }
   ],
   "source": [
    "num=int(input(\"enter the number:\"))\n",
    "rem=0\n",
    "sum=0\n",
    "temp=num\n",
    "\n",
    "def len_digit(num):\n",
    "    count=0\n",
    "    while(num>0):\n",
    "        num=num//10\n",
    "        count=count+1\n",
    "\n",
    "    return count\n",
    "        \n",
    "\n",
    "x=len_digit(num)\n",
    "if(x==4):\n",
    "    while(num>0):\n",
    "        rem=num%10\n",
    "        sum=sum+rem**x\n",
    "        num=num//10\n",
    "    \n",
    "    if(sum==temp):\n",
    "        print(\"Narcissist\")\n",
    "\n",
    "    else:\n",
    "        print(\"not narr\")\n",
    "\n",
    "else:\n",
    "    print(\"please enter 4 digit number\")\n",
    "\n"
   ]
  },
  {
   "cell_type": "markdown",
   "id": "fefc040f-ee33-45cb-817c-03ebd41b9faa",
   "metadata": {},
   "source": [
    "# Ans 7"
   ]
  },
  {
   "cell_type": "code",
   "execution_count": 13,
   "id": "c82e83cd-8700-49c1-92a0-686ed580ca5c",
   "metadata": {},
   "outputs": [
    {
     "name": "stdout",
     "output_type": "stream",
     "text": [
      "123.46\n"
     ]
    }
   ],
   "source": [
    "number = 123.456789\n",
    "print(f\"{number:.2f}\")\n"
   ]
  },
  {
   "cell_type": "code",
   "execution_count": 14,
   "id": "ca9d9097-daba-483c-bc93-c31621f92da8",
   "metadata": {},
   "outputs": [
    {
     "name": "stdout",
     "output_type": "stream",
     "text": [
      "123.46\n"
     ]
    }
   ],
   "source": [
    "number = 123.456789\n",
    "print(\"{:.2f}\".format(number))\n"
   ]
  },
  {
   "cell_type": "code",
   "execution_count": 15,
   "id": "d394b80d-96b1-42f2-a7d4-065266688388",
   "metadata": {},
   "outputs": [
    {
     "name": "stdout",
     "output_type": "stream",
     "text": [
      "123.46\n"
     ]
    }
   ],
   "source": [
    "number = 123.456789\n",
    "print(round(number, 2))\n"
   ]
  },
  {
   "cell_type": "markdown",
   "id": "91182867-aa69-4646-8a34-f5dd87485717",
   "metadata": {},
   "source": [
    "# Ans 9"
   ]
  },
  {
   "cell_type": "code",
   "execution_count": 20,
   "id": "8bd5acc5-5674-4aca-905e-c0630cd9abbc",
   "metadata": {},
   "outputs": [
    {
     "name": "stdout",
     "output_type": "stream",
     "text": [
      "Enter 5 float numbers:\n"
     ]
    },
    {
     "name": "stdin",
     "output_type": "stream",
     "text": [
      "Enter number 1:  f\n"
     ]
    },
    {
     "name": "stdout",
     "output_type": "stream",
     "text": [
      "Invalid input! Please enter a valid float number.\n"
     ]
    },
    {
     "name": "stdin",
     "output_type": "stream",
     "text": [
      "Enter number 1:  f\n"
     ]
    },
    {
     "name": "stdout",
     "output_type": "stream",
     "text": [
      "Invalid input! Please enter a valid float number.\n"
     ]
    },
    {
     "name": "stdin",
     "output_type": "stream",
     "text": [
      "Enter number 1:  65\n",
      "Enter number 2:  65\n",
      "Enter number 3:  65\n",
      "Enter number 4:  2\n",
      "Enter number 5:  2\n"
     ]
    },
    {
     "name": "stdout",
     "output_type": "stream",
     "text": [
      "The list of float numbers is: [65.0, 65.0, 65.0, 2.0, 2.0]\n"
     ]
    }
   ],
   "source": [
    "# Accept a list of 5 float numbers from the user\n",
    "numbers = []\n",
    "print(\"Enter 5 float numbers:\")\n",
    "\n",
    "for i in range(5):\n",
    "    while True:\n",
    "        try:\n",
    "            num = float(input(f\"Enter number {i + 1}: \"))\n",
    "            numbers.append(num)\n",
    "            break\n",
    "        except ValueError:\n",
    "            print(\"Invalid input! Please enter a valid float number.\")\n",
    "\n",
    "print(\"The list of float numbers is:\", numbers)\n"
   ]
  },
  {
   "cell_type": "markdown",
   "id": "0d46c5ce-00ff-44b8-8365-f9b96e68b53d",
   "metadata": {},
   "source": [
    "# Ans 10"
   ]
  },
  {
   "cell_type": "code",
   "execution_count": 31,
   "id": "f0d26f4a-6ffc-4f86-8ce5-9647607ee4f0",
   "metadata": {},
   "outputs": [
    {
     "name": "stdin",
     "output_type": "stream",
     "text": [
      "enter radius: 7\n",
      "height: 20\n",
      "mlk wight: 40\n"
     ]
    },
    {
     "name": "stdout",
     "output_type": "stream",
     "text": [
      "3077.2000000000003\n",
      "3.0\n",
      "cost of milk: 120.0\n"
     ]
    }
   ],
   "source": [
    "r=int(input(\"enter radius:\"))\n",
    "h=int(input(\"height:\"))\n",
    "kg=int(input(\"mlk wight:\"))\n",
    "volume=float(3.14*r*r*h)\n",
    "print(volume)\n",
    "# volume cm to litter then divide 1000\n",
    "littr=float(volume//1000)\n",
    "cost=littr*kg\n",
    "print(littr)\n",
    "print(\"cost of milk:\",cost)\n",
    "\n"
   ]
  },
  {
   "cell_type": "code",
   "execution_count": null,
   "id": "452e01d6-3f1b-4636-906f-cd4d9d990506",
   "metadata": {},
   "outputs": [],
   "source": []
  }
 ],
 "metadata": {
  "kernelspec": {
   "display_name": "Python 3 (ipykernel)",
   "language": "python",
   "name": "python3"
  },
  "language_info": {
   "codemirror_mode": {
    "name": "ipython",
    "version": 3
   },
   "file_extension": ".py",
   "mimetype": "text/x-python",
   "name": "python",
   "nbconvert_exporter": "python",
   "pygments_lexer": "ipython3",
   "version": "3.10.11"
  }
 },
 "nbformat": 4,
 "nbformat_minor": 5
}
